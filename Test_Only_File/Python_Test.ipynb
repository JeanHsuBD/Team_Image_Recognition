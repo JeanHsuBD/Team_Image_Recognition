{
 "cells": [
  {
   "cell_type": "markdown",
   "source": [
    "### os.listdir()\n",
    "用于返回指定的文件夹包含的文件或文件夹的名字的列表。\n",
    "語法: os.listdir(path)"
   ],
   "metadata": {
    "collapsed": false
   },
   "id": "533d9e27604b3168"
  },
  {
   "cell_type": "code",
   "execution_count": 2,
   "outputs": [],
   "source": [
    "import os"
   ],
   "metadata": {
    "collapsed": false,
    "ExecuteTime": {
     "end_time": "2023-11-07T17:01:32.684419Z",
     "start_time": "2023-11-07T17:01:32.675389Z"
    }
   },
   "id": "b00ec66dfa5be528"
  },
  {
   "cell_type": "code",
   "execution_count": 5,
   "outputs": [
    {
     "name": "stdout",
     "output_type": "stream",
     "text": [
      "['30 no.jpg', '22 no.jpg', '41 no.jpg', '14 no.jpg', 'no 10.jpg', '18 no.jpg', 'no 9.png', 'no 7.jpeg', 'no 8.jpg', 'no.jpg', '3 no.jpg', '43 no.jpg', '20 no.jpg', '32 no.jpg', '2 no.jpeg', 'N15.jpg', 'no 99.jpg', 'no 98.jpg', 'No11.jpg', '7 no.jpg', '12 no.jpg', 'No13.jpg', '44no.jpg', 'N16.jpg', 'N17.jpg', '28 no.jpg', '36 no.jpg', 'No12.jpg', '47 no.jpg', '24 no.jpg', 'No16.jpg', '10 no.jpg', '26 no.jpg', '45 no.jpg', 'no 923.jpg', '38 no.jpg', 'No17.jpg', '49 no.jpg', '34 no.jpg', '1 no.jpeg', 'no 100.jpg', 'No15.jpg', '5 no.jpg', 'N11.jpg', 'no 89.jpg', 'No14.jpg', '9 no.jpg', 'No19.jpg', 'no 90.jpg', 'N20.JPG', 'N21.jpg', 'No18.jpg', '15 no.jpg', '19 no.jpg', 'N22.JPG', 'no 92.jpg', '31 no.jpg', '40 no.jpg', '23 no.jpg', '17 no.jpg', 'N26.JPG', 'no 96.jpg', 'no 97.jpg', '21 no.jpg', '42 no.jpg', 'No22.jpg', '33 no.jpg', '50 no.jpg', 'No20.jpg', 'no 95.jpg', 'N19.JPG', 'no 94.jpg', 'No21.jpg', '37 no.jpg', 'N6.jpg', '29 no.jpg', '25 no.jpg', 'no 91.jpeg', 'no 3.jpg', '46 no.jpg', 'no 2.jpg', '13 no.jpg', 'N5.jpg', '6 no.jpg', 'no 1.jpg', 'no 5.jpeg', '4 no.jpg', '8 no.jpg', 'no 4.jpg', 'N1.JPG', '39 no.jpg', 'N3.jpg', '27 no.jpg', '35 no.jpg', 'no 6.jpg', '48 no.jpeg', '11 no.jpg', 'N2.JPG']\n",
      "<class 'list'>\n"
     ]
    }
   ],
   "source": [
    "dirs = os.listdir(\"../brain_tumor_dataset/no\")\n",
    "print(dirs)"
   ],
   "metadata": {
    "collapsed": false,
    "ExecuteTime": {
     "end_time": "2023-11-07T17:03:22.755009Z",
     "start_time": "2023-11-07T17:03:22.744161Z"
    }
   },
   "id": "695ede0c1f1b31d8"
  },
  {
   "cell_type": "code",
   "execution_count": null,
   "outputs": [],
   "source": [],
   "metadata": {
    "collapsed": false
   },
   "id": "53e42410408832e1"
  },
  {
   "cell_type": "code",
   "execution_count": null,
   "outputs": [],
   "source": [],
   "metadata": {
    "collapsed": false
   },
   "id": "27e4aca534d6772f"
  },
  {
   "cell_type": "code",
   "execution_count": null,
   "outputs": [],
   "source": [],
   "metadata": {
    "collapsed": false
   },
   "id": "901b416a05fb3177"
  },
  {
   "cell_type": "code",
   "execution_count": null,
   "outputs": [],
   "source": [],
   "metadata": {
    "collapsed": false
   },
   "id": "5f83c9b5df245d34"
  }
 ],
 "metadata": {
  "kernelspec": {
   "display_name": "Python 3",
   "language": "python",
   "name": "python3"
  },
  "language_info": {
   "codemirror_mode": {
    "name": "ipython",
    "version": 2
   },
   "file_extension": ".py",
   "mimetype": "text/x-python",
   "name": "python",
   "nbconvert_exporter": "python",
   "pygments_lexer": "ipython2",
   "version": "2.7.6"
  }
 },
 "nbformat": 4,
 "nbformat_minor": 5
}
