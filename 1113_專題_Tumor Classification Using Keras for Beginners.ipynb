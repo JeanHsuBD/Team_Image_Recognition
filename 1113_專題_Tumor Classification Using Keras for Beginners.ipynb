{
 "cells": [
  {
   "cell_type": "markdown",
   "id": "d3b277b2",
   "metadata": {},
   "source": [
    "https://www.kaggle.com/code/akshitmadan/tumor-classification-using-keras-for-beginners\n"
   ]
  },
  {
   "cell_type": "code",
   "execution_count": 1,
   "id": "c4bd7d44",
   "metadata": {},
   "outputs": [],
   "source": [
    "import numpy as np\n",
    "import pandas as pd\n",
    "import keras \n",
    "from keras.models import Sequential\n",
    "from keras.layers import Conv2D, MaxPooling2D, Flatten, Dense, Dropout, BatchNormalization\n",
    "from tensorflow.keras.preprocessing import image\n",
    "# 影像處理的相關套件\n",
    "# from PIL import Image\n",
    "import matplotlib.pyplot as plt\n",
    "from sklearn.model_selection import train_test_split #將資料集拆分為訓練集和測試集\n",
    "from sklearn.preprocessing import OneHotEncoder #獨熱碼\n",
    "from sklearn.metrics import confusion_matrix, accuracy_score, precision_score, recall_score, f1_score\n",
    "import cv2\n",
    "import glob"
   ]
  },
  {
   "cell_type": "code",
   "execution_count": 2,
   "id": "eec8a910",
   "metadata": {},
   "outputs": [
    {
     "data": {
      "text/plain": [
       "OneHotEncoder()"
      ]
     },
     "execution_count": 2,
     "metadata": {},
     "output_type": "execute_result"
    }
   ],
   "source": [
    "# 先分類並將yes or no設為獨熱碼\n",
    "encoder = OneHotEncoder()\n",
    "encoder.fit([[0], [1]])  # 假設是目標類別的標籤，0=不是 / 1=是"
   ]
  },
  {
   "cell_type": "code",
   "execution_count": 3,
   "id": "93ab9277",
   "metadata": {},
   "outputs": [
    {
     "name": "stdout",
     "output_type": "stream",
     "text": [
      "253\n",
      "253\n",
      "98\n",
      "155\n",
      "<class 'list'>\n",
      "<class 'list'>\n"
     ]
    }
   ],
   "source": [
    "data = []  # 儲存影像數據\n",
    "result = []  # 儲存對應的目標標籤\n",
    "\n",
    "# 載入no的資料，並歸類成0\n",
    "paths_no = glob.glob(\"archive/brain_tumor_dataset/no/*\")\n",
    "paths_yes = glob.glob(\"archive/brain_tumor_dataset/yes/*\")\n",
    "\n",
    "for path in paths_no:\n",
    "    # img = image.load_img(path, target_size=(128, 128), color_mode=\"grayscale\")\n",
    "    img = cv2.imread(path, cv2.IMREAD_GRAYSCALE)  # 使用灰階模式讀取圖像\n",
    "    img = cv2.resize(img, (128, 128))  # 調整圖像大小\n",
    "    img_array = np.expand_dims(img, axis=-1)\n",
    "    img_array = img_array.astype('float32') / 255.0   # 正規化，將像素縮放到 [0, 1] 之間\n",
    "    if img_array.shape == (128, 128, 1):\n",
    "        data.append(img_array) # 將 img_array 加入到 data 列表中\n",
    "        result.append(encoder.transform([[0]]).toarray())\n",
    "        \n",
    "\n",
    "# 載入yes的資料，並歸類成1       \n",
    "for path in paths_yes:\n",
    "    # img = image.load_img(path, target_size=(128, 128), color_mode=\"grayscale\")\n",
    "    img = cv2.imread(path, cv2.IMREAD_GRAYSCALE)  # 使用灰階模式讀取圖像\n",
    "    img = cv2.resize(img, (128, 128))  # 調整圖像大小\n",
    "    img_array = np.array(img)\n",
    "    img_array = np.expand_dims(img, axis=-1)\n",
    "    img_array = img_array.astype('float32') / 255.0 # 正規化，將像素縮放到 [0, 1] 之間\n",
    "    if img_array.shape == (128, 128, 1):\n",
    "        data.append(img_array)\n",
    "        result.append(encoder.transform([[1]]).toarray())\n",
    "\n",
    "\n",
    "# print(paths_no)\n",
    "# print(paths_yes) \n",
    "print(len(data))\n",
    "print(len(result))\n",
    "print(len(paths_no))\n",
    "print(len(paths_yes))\n",
    "print(type(data))\n",
    "print(type(result))"
   ]
  },
  {
   "cell_type": "code",
   "execution_count": 4,
   "id": "a6e21a2b",
   "metadata": {},
   "outputs": [
    {
     "name": "stdout",
     "output_type": "stream",
     "text": [
      "(253, 2)\n",
      "x, y_train shape: (169, 128, 128, 1) (169, 2)\n",
      "x, y_test shape: (84, 128, 128, 1) (84, 2)\n"
     ]
    }
   ],
   "source": [
    "# 將 data result 轉換為 NumPy 陣列\n",
    "data = np.array(data)\n",
    "result = np.array(result).reshape(len(result), -1)\n",
    "print(result.shape) # 應該要是155行，內容是 [0,1], [1,0]\n",
    "\n",
    "#  33% 的資料留給測試集，67% 的資料用於訓練集，分割資料前打亂資料集，確保每次打亂分割的結果一致\n",
    "x_train, x_test, y_train, y_test = train_test_split(data, result, test_size=0.33, shuffle=True, random_state=0)\n",
    "print(\"x, y_train shape:\", x_train.shape, y_train.shape)\n",
    "print(\"x, y_test shape:\", x_test.shape, y_test.shape)"
   ]
  },
  {
   "cell_type": "code",
   "execution_count": 5,
   "id": "178e5074",
   "metadata": {},
   "outputs": [
    {
     "name": "stdout",
     "output_type": "stream",
     "text": [
      "Model: \"sequential\"\n",
      "_________________________________________________________________\n",
      " Layer (type)                Output Shape              Param #   \n",
      "=================================================================\n",
      " conv2d (Conv2D)             (None, 128, 128, 32)      160       \n",
      "                                                                 \n",
      " conv2d_1 (Conv2D)           (None, 128, 128, 32)      4128      \n",
      "                                                                 \n",
      " batch_normalization (BatchN  (None, 128, 128, 32)     128       \n",
      " ormalization)                                                   \n",
      "                                                                 \n",
      " max_pooling2d (MaxPooling2D  (None, 64, 64, 32)       0         \n",
      " )                                                               \n",
      "                                                                 \n",
      " dropout (Dropout)           (None, 64, 64, 32)        0         \n",
      "                                                                 \n",
      "=================================================================\n",
      "Total params: 4,416\n",
      "Trainable params: 4,352\n",
      "Non-trainable params: 64\n",
      "_________________________________________________________________\n"
     ]
    }
   ],
   "source": [
    "# 宣告循序建模型\n",
    "model = Sequential()\n",
    "\n",
    "# 第一組卷積層：包含卷積層、批次標準化層、最大池化層和 Dropout\n",
    "# 卷積層包含 32 個filter，每個filter的大小為 (2, 2)\n",
    "# padding='Same' 確保輸入和輸出的尺寸相同\n",
    "# 增加激活函數 ReLu\n",
    "model.add(Conv2D(32, kernel_size=(2, 2), input_shape=(128, 128, 1), padding='Same'))\n",
    "model.add(Conv2D(32, kernel_size=(2, 2), activation='relu', padding='Same'))\n",
    "\n",
    "# 批次標準化層，用來提高模型的訓練穩定性和收斂速度\n",
    "model.add(BatchNormalization())\n",
    "\n",
    "# 池化層，用來抓取重要特徵去第重要部分，減小特徵圖的尺寸\n",
    "model.add(MaxPooling2D(pool_size=(2, 2)))\n",
    "\n",
    "# 防止過擬合，丟棄率為 25%\n",
    "model.add(Dropout(0.25))\n",
    "model.summary()\n"
   ]
  },
  {
   "cell_type": "code",
   "execution_count": 6,
   "id": "80942535",
   "metadata": {},
   "outputs": [
    {
     "name": "stdout",
     "output_type": "stream",
     "text": [
      "Model: \"sequential\"\n",
      "_________________________________________________________________\n",
      " Layer (type)                Output Shape              Param #   \n",
      "=================================================================\n",
      " conv2d (Conv2D)             (None, 128, 128, 32)      160       \n",
      "                                                                 \n",
      " conv2d_1 (Conv2D)           (None, 128, 128, 32)      4128      \n",
      "                                                                 \n",
      " batch_normalization (BatchN  (None, 128, 128, 32)     128       \n",
      " ormalization)                                                   \n",
      "                                                                 \n",
      " max_pooling2d (MaxPooling2D  (None, 64, 64, 32)       0         \n",
      " )                                                               \n",
      "                                                                 \n",
      " dropout (Dropout)           (None, 64, 64, 32)        0         \n",
      "                                                                 \n",
      " flatten (Flatten)           (None, 131072)            0         \n",
      "                                                                 \n",
      " dense (Dense)               (None, 512)               67109376  \n",
      "                                                                 \n",
      " dropout_1 (Dropout)         (None, 512)               0         \n",
      "                                                                 \n",
      " dense_1 (Dense)             (None, 2)                 1026      \n",
      "                                                                 \n",
      "=================================================================\n",
      "Total params: 67,114,818\n",
      "Trainable params: 67,114,754\n",
      "Non-trainable params: 64\n",
      "_________________________________________________________________\n"
     ]
    }
   ],
   "source": [
    "# 第二組卷積層：包含卷積層、批次標準化層、最大池化層和 Dropout\n",
    "# 拉平層，將先前的卷積層的輸出拉平為一維向量\n",
    "model.add(Flatten())\n",
    "# 連接至全連接層Full Connected Layer，包含 512 個神經元，使用 ReLU 激活函數\n",
    "model.add(Dense(512, activation='relu'))\n",
    "# 防止過擬合，丟棄率為 25%\n",
    "model.add(Dropout(0.5))\n",
    "# 連接至全連接層，包含 2 個神經元，使用 softmax 激活函數，用於2個類別分類\n",
    "model.add(Dense(2, activation='softmax'))\n",
    "model.summary()\n"
   ]
  },
  {
   "cell_type": "code",
   "execution_count": 7,
   "id": "fdf79698",
   "metadata": {},
   "outputs": [],
   "source": [
    "# 編譯模型\n",
    "# 損失函數：categorical_crossentropy 常用於多類別分類問題\n",
    "# 梯度下降方式(優化)：Adamax adam隨機梯度下降的變種，用於最小化損失\n",
    "# 量測標準：accuracy\n",
    "model.compile(loss=\"categorical_crossentropy\", optimizer='Adamax', metrics=[\"accuracy\"])\n"
   ]
  },
  {
   "cell_type": "code",
   "execution_count": 8,
   "id": "acf16948",
   "metadata": {},
   "outputs": [
    {
     "data": {
      "text/plain": [
       "(169, 2)"
      ]
     },
     "execution_count": 8,
     "metadata": {},
     "output_type": "execute_result"
    }
   ],
   "source": [
    "y_train.shape\n"
   ]
  },
  {
   "cell_type": "code",
   "execution_count": 9,
   "id": "13269a09",
   "metadata": {
    "scrolled": true
   },
   "outputs": [
    {
     "name": "stdout",
     "output_type": "stream",
     "text": [
      "Epoch 1/30\n",
      "5/5 [==============================] - 20s 2s/step - loss: 58.2614 - accuracy: 0.6154 - val_loss: 0.9243 - val_accuracy: 0.8214\n",
      "Epoch 2/30\n",
      "5/5 [==============================] - 7s 1s/step - loss: 19.9493 - accuracy: 0.6686 - val_loss: 0.8620 - val_accuracy: 0.7024\n",
      "Epoch 3/30\n",
      "5/5 [==============================] - 7s 1s/step - loss: 6.4880 - accuracy: 0.8047 - val_loss: 0.9599 - val_accuracy: 0.6310\n",
      "Epoch 4/30\n",
      "5/5 [==============================] - 7s 1s/step - loss: 3.5358 - accuracy: 0.8107 - val_loss: 0.6252 - val_accuracy: 0.7381\n",
      "Epoch 5/30\n",
      "5/5 [==============================] - 7s 1s/step - loss: 1.7379 - accuracy: 0.8402 - val_loss: 0.5538 - val_accuracy: 0.7500\n",
      "Epoch 6/30\n",
      "5/5 [==============================] - 7s 1s/step - loss: 0.9603 - accuracy: 0.8580 - val_loss: 0.5277 - val_accuracy: 0.7619\n",
      "Epoch 7/30\n",
      "5/5 [==============================] - 7s 1s/step - loss: 0.3768 - accuracy: 0.9408 - val_loss: 0.5488 - val_accuracy: 0.7381\n",
      "Epoch 8/30\n",
      "5/5 [==============================] - 8s 2s/step - loss: 0.5667 - accuracy: 0.9349 - val_loss: 0.5313 - val_accuracy: 0.7857\n",
      "Epoch 9/30\n",
      "5/5 [==============================] - 8s 2s/step - loss: 0.2911 - accuracy: 0.9231 - val_loss: 0.5292 - val_accuracy: 0.7500\n",
      "Epoch 10/30\n",
      "5/5 [==============================] - 8s 2s/step - loss: 0.1857 - accuracy: 0.9645 - val_loss: 0.5381 - val_accuracy: 0.7738\n",
      "Epoch 11/30\n",
      "5/5 [==============================] - 11s 2s/step - loss: 0.2120 - accuracy: 0.9586 - val_loss: 0.5449 - val_accuracy: 0.7619\n",
      "Epoch 12/30\n",
      "5/5 [==============================] - 8s 2s/step - loss: 0.0555 - accuracy: 0.9882 - val_loss: 0.5328 - val_accuracy: 0.7381\n",
      "Epoch 13/30\n",
      "5/5 [==============================] - 8s 2s/step - loss: 0.0619 - accuracy: 0.9763 - val_loss: 0.5248 - val_accuracy: 0.7619\n",
      "Epoch 14/30\n",
      "5/5 [==============================] - 9s 2s/step - loss: 0.0482 - accuracy: 0.9822 - val_loss: 0.5202 - val_accuracy: 0.7738\n",
      "Epoch 15/30\n",
      "5/5 [==============================] - 7s 1s/step - loss: 0.0578 - accuracy: 0.9704 - val_loss: 0.5165 - val_accuracy: 0.7738\n",
      "Epoch 16/30\n",
      "5/5 [==============================] - 9s 2s/step - loss: 0.0171 - accuracy: 0.9941 - val_loss: 0.5154 - val_accuracy: 0.7857\n",
      "Epoch 17/30\n",
      "5/5 [==============================] - 8s 2s/step - loss: 0.0220 - accuracy: 0.9882 - val_loss: 0.5107 - val_accuracy: 0.7738\n",
      "Epoch 18/30\n",
      "5/5 [==============================] - 9s 2s/step - loss: 0.0487 - accuracy: 0.9822 - val_loss: 0.5099 - val_accuracy: 0.7857\n",
      "Epoch 19/30\n",
      "5/5 [==============================] - 8s 1s/step - loss: 0.0294 - accuracy: 0.9882 - val_loss: 0.5107 - val_accuracy: 0.7976\n",
      "Epoch 20/30\n",
      "5/5 [==============================] - 10s 2s/step - loss: 0.0565 - accuracy: 0.9941 - val_loss: 0.5127 - val_accuracy: 0.7857\n",
      "Epoch 21/30\n",
      "5/5 [==============================] - 9s 2s/step - loss: 0.0118 - accuracy: 0.9941 - val_loss: 0.5158 - val_accuracy: 0.7738\n",
      "Epoch 22/30\n",
      "5/5 [==============================] - 8s 1s/step - loss: 0.0256 - accuracy: 0.9882 - val_loss: 0.5163 - val_accuracy: 0.7738\n",
      "Epoch 23/30\n",
      "5/5 [==============================] - 8s 2s/step - loss: 0.0083 - accuracy: 1.0000 - val_loss: 0.5150 - val_accuracy: 0.7619\n",
      "Epoch 24/30\n",
      "5/5 [==============================] - 8s 1s/step - loss: 0.0131 - accuracy: 1.0000 - val_loss: 0.5147 - val_accuracy: 0.7619\n",
      "Epoch 25/30\n",
      "5/5 [==============================] - 9s 2s/step - loss: 0.0242 - accuracy: 0.9941 - val_loss: 0.5120 - val_accuracy: 0.7619\n",
      "Epoch 26/30\n",
      "5/5 [==============================] - 8s 2s/step - loss: 0.0062 - accuracy: 1.0000 - val_loss: 0.5037 - val_accuracy: 0.7857\n",
      "Epoch 27/30\n",
      "5/5 [==============================] - 9s 2s/step - loss: 0.0207 - accuracy: 0.9941 - val_loss: 0.4978 - val_accuracy: 0.7857\n",
      "Epoch 28/30\n",
      "5/5 [==============================] - 10s 2s/step - loss: 0.0137 - accuracy: 0.9941 - val_loss: 0.4932 - val_accuracy: 0.7976\n",
      "Epoch 29/30\n",
      "5/5 [==============================] - 8s 2s/step - loss: 0.0456 - accuracy: 0.9941 - val_loss: 0.4953 - val_accuracy: 0.8095\n",
      "Epoch 30/30\n",
      "5/5 [==============================] - 12s 2s/step - loss: 0.0066 - accuracy: 1.0000 - val_loss: 0.4978 - val_accuracy: 0.8333\n"
     ]
    }
   ],
   "source": [
    "history = model.fit(x_train, y_train, epochs = 30, batch_size = 40, verbose = 1,validation_data = (x_test, y_test))\n",
    "\n",
    "# 訓練資料的特徵, 訓練資料的標籤, epoch為30回合, batch_size為批量40數，verbose顯示模式為0(0:安靜模式/1:顯示進度條), "
   ]
  },
  {
   "cell_type": "code",
   "execution_count": 10,
   "id": "1ab703b4",
   "metadata": {},
   "outputs": [
    {
     "name": "stdout",
     "output_type": "stream",
     "text": [
      "6/6 [==============================] - 1s 193ms/step - loss: 0.2219 - accuracy: 1.0000\n",
      "訓練集的準確度 = 1.00\n",
      "3/3 [==============================] - 1s 158ms/step - loss: 0.4978 - accuracy: 0.8333\n",
      "測試集的準確度 = 0.83\n"
     ]
    }
   ],
   "source": [
    "loss, accuracy = model.evaluate(x_train, y_train)\n",
    "print(\"訓練集的準確度 = {:.2f}\".format(accuracy))\n",
    "loss, accuracy = model.evaluate(x_test, y_test)\n",
    "print(\"測試集的準確度 = {:.2f}\".format(accuracy))\n"
   ]
  },
  {
   "cell_type": "code",
   "execution_count": 11,
   "id": "aaba5d2a",
   "metadata": {},
   "outputs": [
    {
     "name": "stdout",
     "output_type": "stream",
     "text": [
      "[58.26144027709961, 19.949331283569336, 6.4880242347717285, 3.5357799530029297, 1.7378751039505005, 0.960271954536438, 0.3768332302570343, 0.5667168498039246, 0.2911335825920105, 0.18570664525032043, 0.2119968831539154, 0.05546468868851662, 0.06185614690184593, 0.04815637320280075, 0.05784336477518082, 0.017081674188375473, 0.021952947601675987, 0.048681288957595825, 0.02944810315966606, 0.05652434378862381, 0.011785894632339478, 0.02564743347465992, 0.008319126442074776, 0.013140414841473103, 0.024204730987548828, 0.006242028437554836, 0.020726440474390984, 0.013691563159227371, 0.04557322710752487, 0.006600382272154093]\n",
      "range(1, 31)\n",
      "[0.9242518544197083, 0.8620390892028809, 0.9598554968833923, 0.6252127885818481, 0.5538374781608582, 0.5276862978935242, 0.5488286018371582, 0.5313379168510437, 0.5292136669158936, 0.5380908250808716, 0.5448547601699829, 0.5327847599983215, 0.5247723460197449, 0.5202077627182007, 0.5165160894393921, 0.5154297947883606, 0.5107422471046448, 0.5098786950111389, 0.5107134580612183, 0.5127469897270203, 0.5158257484436035, 0.5163471698760986, 0.5149906873703003, 0.5146732926368713, 0.5120447874069214, 0.5037497878074646, 0.4978097379207611, 0.4932170510292053, 0.49532708525657654, 0.49784061312675476]\n"
     ]
    }
   ],
   "source": [
    "# 顯示訓練和驗證損失\n",
    "## 訓練集中損失的值\n",
    "loss = history.history[\"loss\"]\n",
    "## 訓練週期的數量為 1~30，表示X軸\n",
    "epochs = range(1, len(loss)+1)\n",
    "## 測試集中損失的值\n",
    "val_loss = history.history[\"val_loss\"]\n",
    "\n",
    "print(loss)\n",
    "print(epochs)\n",
    "print(val_loss)"
   ]
  },
  {
   "cell_type": "code",
   "execution_count": 12,
   "id": "0e959729",
   "metadata": {},
   "outputs": [
    {
     "data": {
      "text/plain": [
       "<function matplotlib.pyplot.show(close=None, block=None)>"
      ]
     },
     "execution_count": 12,
     "metadata": {},
     "output_type": "execute_result"
    },
    {
     "data": {
      "image/png": "[encoded data removed]",
      "text/plain": [
       "<Figure size 640x480 with 1 Axes>"
      ]
     },
     "metadata": {},
     "output_type": "display_data"
    }
   ],
   "source": [
    "# 畫出圖表分析訓練過程\n",
    "plt.plot(epochs, loss, color=\"b\", lw=1.0, ls=\"-.\", marker=\"*\", label=\"Training Loss\")\n",
    "plt.plot(epochs, val_loss, color=\"y\", lw=1.0, ls=\"-.\", marker=\"p\", label=\"Validation Loss\")\n",
    "plt.title(\"Training and Validation Loss\")\n",
    "plt.xlabel(\"Epochs\")\n",
    "plt.ylabel(\"Loss\")\n",
    "plt.legend(['Training', 'Validation'], loc='right')\n",
    "plt.show"
   ]
  },
  {
   "cell_type": "code",
   "execution_count": 20,
   "id": "776de191",
   "metadata": {},
   "outputs": [
    {
     "name": "stdout",
     "output_type": "stream",
     "text": [
      "3/3 [==============================] - 1s 189ms/step\n",
      "Confusion Matrix:\n",
      "[[[43 10]\n",
      "  [ 4 27]]\n",
      "\n",
      " [[27  4]\n",
      "  [10 43]]]\n",
      "Accuracy: 0.83\n",
      "Precision: 0.83\n",
      "Recall: 0.83\n",
      "F1 Score: 0.83\n"
     ]
    }
   ],
   "source": [
    "from sklearn.metrics import multilabel_confusion_matrix\n",
    "# 找出模型的預測答案\n",
    "# 對測試集進行預測\n",
    "y_pred = (model.predict(x_test) > 0.5).astype(int)  # 使用閾值0.5，假設是二元分類\n",
    "\n",
    "# 計算混淆矩陣\n",
    "conf_matrix = multilabel_confusion_matrix(y_test, y_pred)\n",
    "\n",
    "# 計算其他性能指標\n",
    "accuracy = accuracy_score(y_test, y_pred)\n",
    "precision = precision_score(y_test, y_pred, average='micro')\n",
    "recall = recall_score(y_test, y_pred, average='micro')\n",
    "f1 = f1_score(y_test, y_pred, average='micro')\n",
    "\n",
    "# 輸出結果\n",
    "print(\"Confusion Matrix:\")\n",
    "print(conf_matrix)\n",
    "print(\"Accuracy: {:.2f}\".format(accuracy))\n",
    "print(\"Precision: {:.2f}\".format(precision))\n",
    "print(\"Recall: {:.2f}\".format(recall))\n",
    "print(\"F1 Score: {:.2f}\".format(f1))"
   ]
  },
  {
   "cell_type": "code",
   "execution_count": 25,
   "id": "f487f34d",
   "metadata": {},
   "outputs": [
    {
     "data": {
      "text/plain": [
       "<function matplotlib.pyplot.show(close=None, block=None)>"
      ]
     },
     "execution_count": 25,
     "metadata": {},
     "output_type": "execute_result"
    },
    {
     "data": {
      "image/png": "[encoded data removed]",
      "text/plain": [
       "<Figure size 640x480 with 2 Axes>"
      ]
     },
     "metadata": {},
     "output_type": "display_data"
    }
   ],
   "source": [
    "# 轉成 datafram\n",
    "# matrix_df=pd.DataFrame(conf_matrix)\n",
    "# 利用plot設定輸出格式\n",
    "# ax = plt.axes()\n",
    "# 修改字體比例\n",
    "# sns.set(font_scale=1.3)\n",
    "# plt.figure(figsize=(10,7))\n",
    "\n",
    "# 綜合多標籤混淆矩陣\n",
    "combined_conf_matrix = conf_matrix.sum(axis=0)\n",
    "\n",
    "# 顯示混淆矩陣\n",
    "fig, ax = plt.subplots()\n",
    "sns.heatmap(combined_conf_matrix, annot=True, fmt='d', cmap='Blues', xticklabels=['Predicted 0', 'Predicted 1'], yticklabels=['Actual 0', 'Actual 1'])\n",
    "\n",
    "# sns.heatmap(matrix_df,annot=True,fmt=\"g\",ax=ax, cmap=\"magma\")\n",
    "# 設定標題，x,y軸的文字\n",
    "ax.set_title('Confusion Matrix')\n",
    "ax.set_xlabel(\"Pridicted label\", fontsize=15)\n",
    "# ax.set_xticklabels(list(labels))\n",
    "ax.set_ylabel(\"True label\", fontsize=15)\n",
    "# ax.set_yticklabels(list(labels), rotation =0)\n",
    "plt.show"
   ]
  },
  {
   "cell_type": "code",
   "execution_count": 26,
   "id": "8c9c15b8",
   "metadata": {},
   "outputs": [
    {
     "data": {
      "image/png": "[encoded data removed]",
      "text/plain": [
       "<Figure size 640x480 with 1 Axes>"
      ]
     },
     "metadata": {},
     "output_type": "display_data"
    }
   ],
   "source": [
    "plt.plot(history.history['accuracy'])\n",
    "plt.plot(history.history['val_accuracy'])\n",
    "plt.title('model accuracy')\n",
    "plt.ylabel('accuracy')\n",
    "plt.xlabel('epoch')\n",
    "plt.legend(['train', 'test'], loc='upper left')\n",
    "plt.show()"
   ]
  },
  {
   "cell_type": "code",
   "execution_count": null,
   "id": "5675f752",
   "metadata": {},
   "outputs": [],
   "source": []
  }
 ],
 "metadata": {
  "kernelspec": {
   "display_name": "Python 3 (ipykernel)",
   "language": "python",
   "name": "python3"
  },
  "language_info": {
   "codemirror_mode": {
    "name": "ipython",
    "version": 3
   },
   "file_extension": ".py",
   "mimetype": "text/x-python",
   "name": "python",
   "nbconvert_exporter": "python",
   "pygments_lexer": "ipython3",
   "version": "3.7.16"
  }
 },
 "nbformat": 4,
 "nbformat_minor": 5
}
