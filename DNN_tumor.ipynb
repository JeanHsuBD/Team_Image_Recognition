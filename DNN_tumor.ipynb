{
 "cells": [
  {
   "cell_type": "code",
   "execution_count": null,
   "id": "b8d7d251",
   "metadata": {
    "lines_to_next_cell": 2
   },
   "outputs": [],
   "source": [
    "#import packages\n",
    "from tensorflow import keras\n",
    "import numpy as np\n",
    "import pandas as pd\n",
    "from keras.models import Sequential\n",
    "from keras.layers import Dense\n",
    "from keras.layers import Flatten\n",
    "from keras.layers import Conv2D\n",
    "from keras.layers import MaxPool2D\n",
    "from keras.layers import Dropout\n",
    "from keras.utils import to_categorical\n",
    "from tensorflow.keras.preprocessing.image import ImageDataGenerator\n",
    "from tensorflow.keras.optimizers import Adam, SGD, RMSprop"
   ]
  },
  {
   "cell_type": "code",
   "execution_count": null,
   "id": "7f4248a9",
   "metadata": {
    "lines_to_next_cell": 0
   },
   "outputs": [],
   "source": [
    "#load tumor images\n",
    "(img_height, img_width) = 224,224\n",
    "data_dir = \"C:/Users/User/Desktop/NCTU Python/Brain Tumor\"\n",
    "\n",
    "datagen =ImageDataGenerator(\n",
    "rescale=1./255, validation_split=0.2)\n",
    "num_class = 2\n",
    "\n",
    "train_data = datagen.flow_from_directory(\n",
    "  directory = data_dir,\n",
    "  target_size = (img_height, img_width),\n",
    "  color_mode='grayscale',\n",
    "  subset=\"training\",\n",
    "  batch_size=10,\n",
    "  shuffle = True)\n",
    "\n",
    "test_data = datagen.flow_from_directory(\n",
    "  directory = data_dir,\n",
    "  target_size = (img_height, img_width),\n",
    "  subset=\"validation\",\n",
    "  color_mode='grayscale',\n",
    "  batch_size=10)"
   ]
  },
  {
   "cell_type": "code",
   "execution_count": null,
   "id": "70a84960",
   "metadata": {},
   "outputs": [],
   "source": [
    "#build DNN model\n",
    "from tensorflow.keras.callbacks import EarlyStopping\n",
    "\n",
    "model = Sequential()\n",
    "model.add(Dense(10, input_shape=(224,224,1), activation='relu'))\n",
    "model.add(Dense(8, activation='relu'))\n",
    "model.add(Dense(1, activation='sigmoid'))\n",
    "model.summary()\n"
   ]
  },
  {
   "cell_type": "code",
   "execution_count": null,
   "id": "1511d280",
   "metadata": {},
   "outputs": [],
   "source": [
    "model.compile(loss='binary_crossentropy', optimizer='Adam',metrics=['accuracy'])\n",
    "model.fit(train_data, epochs=10, validation_data=test_data)\n",
    "loss, accuracy = model.evaluate(test_data)"
   ]
  },
  {
   "cell_type": "code",
   "execution_count": null,
   "id": "d6f6ee5e",
   "metadata": {},
   "outputs": [],
   "source": []
  }
 ],
 "metadata": {
  "jupytext": {
   "cell_metadata_filter": "-all",
   "encoding": "# -*- coding: utf-8 -*-",
   "notebook_metadata_filter": "-all",
   "text_representation": {
    "extension": ".py",
    "format_name": "light"
   }
  },
  "kernelspec": {
   "display_name": "Python 3 (ipykernel)",
   "language": "python",
   "name": "python3"
  }
 },
 "nbformat": 4,
 "nbformat_minor": 5
}
