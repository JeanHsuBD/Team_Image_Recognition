{
 "cells": [
  {
   "cell_type": "code",
   "execution_count": null,
   "id": "ac004b86",
   "metadata": {
    "lines_to_next_cell": 2
   },
   "outputs": [],
   "source": [
    "#import packages\n",
    "from tensorflow import keras\n",
    "import numpy as np\n",
    "import pandas as pd\n",
    "from keras import layers, models\n",
    "from keras.layers import BatchNormalization\n",
    "from keras.models import Sequential\n",
    "from keras.layers import Dense\n",
    "from keras.layers import Flatten\n",
    "from keras.layers import Conv2D\n",
    "from keras.layers import MaxPool2D\n",
    "from keras.layers import Dropout\n",
    "from keras.utils import to_categorical\n",
    "from tensorflow.keras.preprocessing.image import ImageDataGenerator\n",
    "from tensorflow.keras.optimizers import Adam, SGD, RMSprop"
   ]
  },
  {
   "cell_type": "code",
   "execution_count": null,
   "id": "f4dd110f",
   "metadata": {
    "lines_to_next_cell": 0
   },
   "outputs": [],
   "source": [
    "#load tumor images\n",
    "datagen =ImageDataGenerator(\n",
    "rescale=1./255, validation_split=0.2)\n",
    "num_class = 2\n",
    "\n",
    "train_data = datagen.flow_from_directory(\n",
    "  directory = \"C:/Users/User/Desktop/Tumor\",\n",
    "  target_size = (224, 224),\n",
    "  color_mode='grayscale',\n",
    "  subset=\"training\",\n",
    "  batch_size=10,\n",
    "  shuffle = True)\n",
    "\n",
    "test_data = datagen.flow_from_directory(\n",
    "  directory = \"C:/Users/User/Desktop/Tumor\",\n",
    "  target_size = (224, 224),\n",
    "  subset=\"validation\",\n",
    "  color_mode='grayscale')"
   ]
  },
  {
   "cell_type": "code",
   "execution_count": null,
   "id": "3b51030a",
   "metadata": {
    "lines_to_next_cell": 2
   },
   "outputs": [],
   "source": [
    "#build CNN model\n",
    "from tensorflow.keras.callbacks import EarlyStopping\n",
    "\n",
    "model = models.Sequential()\n",
    "model.add(layers.Conv2D(32, (3, 3),padding=\"same\", activation='relu',\n",
    "input_shape=(224, 224, 1)))\n",
    "model.add(BatchNormalization())\n",
    "model.add(layers.MaxPooling2D((2, 2)))\n",
    "\n",
    "\n",
    "model.add(layers.Conv2D(64, (3, 3),padding=\"same\", activation='relu'))\n",
    "model.add(BatchNormalization())\n",
    "model.add(layers.MaxPooling2D((2, 2)))\n",
    "model.add(layers.Dropout(0.25))\n",
    "\n",
    "\n",
    "\n",
    "model.add(layers.Conv2D(128, (3, 3),padding=\"same\", activation='relu'))\n",
    "model.add(BatchNormalization())\n",
    "model.add(layers.MaxPooling2D((2, 2)))\n",
    "model.add(layers.Dropout(0.25))\n",
    "\n",
    "\n",
    "model.add(layers.Conv2D(256, (3,3),padding=\"same\", activation='relu'))\n",
    "model.add(BatchNormalization())\n",
    "model.add(layers.MaxPooling2D((2, 2)))\n",
    "model.add(layers.Dropout(0.25))\n",
    "\n",
    "\n",
    "model.add(layers.Conv2D(512, (3,3),padding=\"same\", activation='relu'))\n",
    "model.add(BatchNormalization())\n",
    "model.add(layers.MaxPooling2D((2, 2)))\n",
    "model.add(layers.Dropout(0.25))\n",
    "\n",
    "model.add(layers.Flatten())\n",
    "\n",
    "model.add(layers.Dense(100, activation='relu'))\n",
    "model.add(layers.Dropout(0.25))\n",
    "model.add(layers.Dense(2, activation='sigmoid'))\n",
    "model.compile(optimizer='Adam',loss='binary_crossentropy',metrics=[\"accuracy\"])\n",
    "model.summary()"
   ]
  },
  {
   "cell_type": "code",
   "execution_count": null,
   "id": "76580557",
   "metadata": {
    "lines_to_next_cell": 0
   },
   "outputs": [],
   "source": [
    "history = model.fit(\n",
    "train_data,\n",
    "steps_per_epoch=train_data.n//train_data.batch_size,\n",
    "epochs=10,\n",
    "validation_data=test_data,\n",
    "validation_steps=test_data.n//test_data.batch_size)\n",
    "\n",
    "\n",
    "model.save(\"brain_tumor3.h5\")"
   ]
  },
  {
   "cell_type": "code",
   "execution_count": null,
   "id": "6bbfc070",
   "metadata": {
    "lines_to_next_cell": 2
   },
   "outputs": [],
   "source": []
  }
 ],
 "metadata": {
  "jupytext": {
   "cell_metadata_filter": "-all",
   "encoding": "# -*- coding: utf-8 -*-",
   "notebook_metadata_filter": "-all",
   "text_representation": {
    "extension": ".py",
    "format_name": "light"
   }
  },
  "kernelspec": {
   "display_name": "Python 3 (ipykernel)",
   "language": "python",
   "name": "python3"
  }
 },
 "nbformat": 4,
 "nbformat_minor": 5
}
