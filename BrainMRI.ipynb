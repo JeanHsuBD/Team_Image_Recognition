{
 "cells": [
  {
   "cell_type": "markdown",
   "source": [
    "### kaggle資料集 : Brain MRI Images for Brain Tumor Detection\n",
    "### 資料集解釋 : 總共253個檔案，其中no有98個檔案，Yes有155個檔案\n",
    "### [資料鏈接][1]\n",
    "### [參考寫法][2]\n",
    "\n",
    "[1]:<https://www.kaggle.com/datasets/navoneel/brain-mri-images-for-brain-tumor-detection?select=yes> \"Brain MRI資料鏈接\"\n",
    "[2]: <https://www.kaggle.com/code/aissaasasd/brain-tumor-detector-92> \"參考寫法\""
   ],
   "metadata": {
    "collapsed": false
   },
   "id": "dfc8bc167cde1446"
  },
  {
   "cell_type": "code",
   "execution_count": 2,
   "outputs": [],
   "source": [
    "import cv2\n",
    "from glob import glob\n",
    "import numpy as np\n",
    "import pandas as pd\n",
    "from matplotlib import pyplot as plt\n",
    "import tensorflow as tf\n",
    "import keras\n",
    "from keras.models import Sequential\n",
    "from keras.layers import Conv2D, MaxPooling2D, Dropout, Flatten, Dense\n",
    "from keras.utils import to_categorical\n",
    "from keras.callbacks import EarlyStopping\n",
    "from keras.preprocessing.image import ImageDataGenerator\n",
    "from sklearn.model_selection import train_test_split\n",
    "from sklearn.preprocessing import LabelEncoder, StandardScaler"
   ],
   "metadata": {
    "collapsed": false,
    "ExecuteTime": {
     "end_time": "2023-11-10T17:14:59.956911Z",
     "start_time": "2023-11-10T17:14:59.952955Z"
    }
   },
   "id": "5471815310c68d8b"
  },
  {
   "cell_type": "markdown",
   "source": [
    "### 資料預處理"
   ],
   "metadata": {
    "collapsed": false
   },
   "id": "86834f3fec82c40"
  },
  {
   "cell_type": "code",
   "execution_count": 3,
   "outputs": [
    {
     "name": "stdout",
     "output_type": "stream",
     "text": [
      "3 ['./brain_tumor_dataset/valid', './brain_tumor_dataset/test', './brain_tumor_dataset/train']\n"
     ]
    }
   ],
   "source": [
    "(img_height, img_width) = 224,224\n",
    "data_dir = \"./brain_tumor_dataset\"\n",
    "folders = glob(data_dir+\"/*\")\n",
    "print(len(folders),folders)"
   ],
   "metadata": {
    "collapsed": false,
    "ExecuteTime": {
     "end_time": "2023-11-10T17:15:03.112034Z",
     "start_time": "2023-11-10T17:15:03.104228Z"
    }
   },
   "id": "4da9b754f97ece71"
  },
  {
   "cell_type": "code",
   "execution_count": 4,
   "outputs": [],
   "source": [
    "train_datagen = ImageDataGenerator(rescale=1./255,\n",
    "                                   shear_range=15,\n",
    "                                   zoom_range=0.4,\n",
    "                                   horizontal_flip=True,\n",
    "                                   vertical_flip=True)\n",
    "test_datagen = ImageDataGenerator(rescale=1./255)"
   ],
   "metadata": {
    "collapsed": false,
    "ExecuteTime": {
     "end_time": "2023-11-10T17:15:03.757446Z",
     "start_time": "2023-11-10T17:15:03.752357Z"
    }
   },
   "id": "ebcc57abee13ae57"
  },
  {
   "cell_type": "code",
   "execution_count": 5,
   "outputs": [
    {
     "name": "stdout",
     "output_type": "stream",
     "text": [
      "Found 166 images belonging to 2 classes.\n"
     ]
    }
   ],
   "source": [
    "train_set = train_datagen.flow_from_directory(data_dir+\"/train\",\n",
    "                                                 target_size=(img_height, img_width),batch_size=32,class_mode=\"categorical\")"
   ],
   "metadata": {
    "collapsed": false,
    "ExecuteTime": {
     "end_time": "2023-11-10T17:15:04.400466Z",
     "start_time": "2023-11-10T17:15:04.378282Z"
    }
   },
   "id": "2df18f12036df35c"
  },
  {
   "cell_type": "code",
   "execution_count": 6,
   "outputs": [
    {
     "name": "stdout",
     "output_type": "stream",
     "text": [
      "Found 56 images belonging to 2 classes.\n"
     ]
    }
   ],
   "source": [
    "test_set = test_datagen.flow_from_directory(data_dir+\"/test\",\n",
    "                                            target_size=(img_height,img_width),\n",
    "                                            batch_size=32,\n",
    "                                            class_mode='categorical')"
   ],
   "metadata": {
    "collapsed": false,
    "ExecuteTime": {
     "end_time": "2023-11-10T17:15:04.714425Z",
     "start_time": "2023-11-10T17:15:04.704605Z"
    }
   },
   "id": "827f06f82e0be459"
  },
  {
   "cell_type": "code",
   "execution_count": 9,
   "outputs": [
    {
     "name": "stdout",
     "output_type": "stream",
     "text": [
      "Model: \"sequential_2\"\n",
      "_________________________________________________________________\n",
      " Layer (type)                Output Shape              Param #   \n",
      "=================================================================\n",
      " conv2d_8 (Conv2D)           (None, 224, 224, 128)     3584      \n",
      "                                                                 \n",
      " max_pooling2d_8 (MaxPooling  (None, 112, 112, 128)    0         \n",
      " 2D)                                                             \n",
      "                                                                 \n",
      " dropout_12 (Dropout)        (None, 112, 112, 128)     0         \n",
      "                                                                 \n",
      " conv2d_9 (Conv2D)           (None, 112, 112, 64)      73792     \n",
      "                                                                 \n",
      " max_pooling2d_9 (MaxPooling  (None, 56, 56, 64)       0         \n",
      " 2D)                                                             \n",
      "                                                                 \n",
      " dropout_13 (Dropout)        (None, 56, 56, 64)        0         \n",
      "                                                                 \n",
      " conv2d_10 (Conv2D)          (None, 56, 56, 32)        18464     \n",
      "                                                                 \n",
      " max_pooling2d_10 (MaxPoolin  (None, 28, 28, 32)       0         \n",
      " g2D)                                                            \n",
      "                                                                 \n",
      " dropout_14 (Dropout)        (None, 28, 28, 32)        0         \n",
      "                                                                 \n",
      " flatten_2 (Flatten)         (None, 25088)             0         \n",
      "                                                                 \n",
      " dense_6 (Dense)             (None, 128)               3211392   \n",
      "                                                                 \n",
      " dropout_15 (Dropout)        (None, 128)               0         \n",
      "                                                                 \n",
      " dense_7 (Dense)             (None, 2)                 258       \n",
      "                                                                 \n",
      "=================================================================\n",
      "Total params: 3,307,490\n",
      "Trainable params: 3,307,490\n",
      "Non-trainable params: 0\n",
      "_________________________________________________________________\n",
      "Epoch 1/10\n",
      "6/6 - 5s - loss: 0.8907 - accuracy: 0.4940 - val_loss: 0.6139 - val_accuracy: 0.6071 - 5s/epoch - 755ms/step\n",
      "Epoch 2/10\n",
      "6/6 - 4s - loss: 0.7362 - accuracy: 0.6325 - val_loss: 0.6644 - val_accuracy: 0.8393 - 4s/epoch - 690ms/step\n",
      "Epoch 3/10\n",
      "6/6 - 4s - loss: 0.6459 - accuracy: 0.6205 - val_loss: 0.5669 - val_accuracy: 0.6429 - 4s/epoch - 692ms/step\n",
      "Epoch 4/10\n",
      "6/6 - 4s - loss: 0.6789 - accuracy: 0.6627 - val_loss: 0.6454 - val_accuracy: 0.6964 - 4s/epoch - 719ms/step\n",
      "Epoch 5/10\n",
      "6/6 - 4s - loss: 0.6469 - accuracy: 0.6446 - val_loss: 0.5930 - val_accuracy: 0.6429 - 4s/epoch - 695ms/step\n",
      "Epoch 6/10\n",
      "6/6 - 4s - loss: 0.6916 - accuracy: 0.6325 - val_loss: 0.5724 - val_accuracy: 0.6250 - 4s/epoch - 692ms/step\n",
      "Epoch 7/10\n",
      "6/6 - 4s - loss: 0.6561 - accuracy: 0.6566 - val_loss: 0.6612 - val_accuracy: 0.7857 - 4s/epoch - 692ms/step\n",
      "Epoch 8/10\n",
      "6/6 - 4s - loss: 0.6600 - accuracy: 0.6506 - val_loss: 0.6435 - val_accuracy: 0.6964 - 4s/epoch - 697ms/step\n",
      "Epoch 9/10\n",
      "6/6 - 4s - loss: 0.6491 - accuracy: 0.6807 - val_loss: 0.5792 - val_accuracy: 0.6429 - 4s/epoch - 696ms/step\n",
      "Epoch 10/10\n",
      "6/6 - 4s - loss: 0.6487 - accuracy: 0.6506 - val_loss: 0.5922 - val_accuracy: 0.6786 - 4s/epoch - 694ms/step\n"
     ]
    }
   ],
   "source": [
    "# 設定模型\n",
    "model = Sequential()\n",
    "model.add(Conv2D(32,(3,3),activation='relu',padding='same',input_shape=(224,224,3)))\n",
    "model.add(MaxPooling2D(pool_size=(2,2)))\n",
    "model.add(Dropout(0.25))\n",
    "model.add(Conv2D(64,(3,3),activation=\"relu\",padding='same'))\n",
    "model.add(MaxPooling2D(pool_size=(2,2)))\n",
    "model.add(Dropout(0.25))\n",
    "# model.add(Conv2D(128,(3,3),activation=\"relu\",padding='same'))\n",
    "# model.add(MaxPooling2D(pool_size=(2,2)))\n",
    "# model.add(Dropout(0.25))\n",
    "# model.add(Conv2D(256,(3,3),activation=\"relu\",padding='same'))\n",
    "# model.add(MaxPooling2D(pool_size=(2,2)))\n",
    "# model.add(Dropout(0.25))\n",
    "model.add(Flatten())\n",
    "model.add(Dense(32,activation=\"relu\"))\n",
    "model.add(Dropout(0.5))\n",
    "model.add(Dense(2,activation=\"softmax\"))\n",
    "model.summary()\n",
    "model.compile(loss=\"categorical_crossentropy\",optimizer=\"adam\",metrics=[\"accuracy\"])\n",
    "early_stopping = EarlyStopping(monitor='val_loss', patience=3, restore_best_weights=True)\n",
    "\n",
    "# model-checkpoint = ModelCheckpoint(filepath=output_dir+\"/weights.{epoch:02d}.hdf5\")\n",
    "\n",
    "history = model.fit(train_set,validation_data=test_set,epochs=30,batch_size=64,verbose=2, callbacks=[early_stopping])"
   ],
   "metadata": {
    "collapsed": false,
    "ExecuteTime": {
     "end_time": "2023-11-10T17:22:38.912230Z",
     "start_time": "2023-11-10T17:21:56.492590Z"
    }
   },
   "id": "e3dd9bb566743acf"
  },
  {
   "cell_type": "code",
   "execution_count": null,
   "outputs": [],
   "source": [
    "plt.plot(history.history['accuracy'])\n",
    "plt.plot(history.history['val_accuracy'])\n",
    "plt.title('model accuracy')\n",
    "plt.ylabel('accuracy')\n",
    "plt.xlabel('epoch')\n",
    "plt.legend(['train', 'test'], loc='upper left')\n",
    "plt.show()"
   ],
   "metadata": {
    "collapsed": false
   },
   "id": "fed357dca7fe4446"
  },
  {
   "cell_type": "code",
   "execution_count": null,
   "outputs": [],
   "source": [],
   "metadata": {
    "collapsed": false
   },
   "id": "c44596ccc5210f92"
  },
  {
   "cell_type": "code",
   "execution_count": null,
   "outputs": [],
   "source": [],
   "metadata": {
    "collapsed": false
   },
   "id": "ac982b3bce147a2e"
  }
 ],
 "metadata": {
  "kernelspec": {
   "display_name": "Python 3 (ipykernel)",
   "language": "python",
   "name": "python3"
  },
  "language_info": {
   "codemirror_mode": {
    "name": "ipython",
    "version": 3
   },
   "file_extension": ".py",
   "mimetype": "text/x-python",
   "name": "python",
   "nbconvert_exporter": "python",
   "pygments_lexer": "ipython3",
   "version": "3.11.5"
  }
 },
 "nbformat": 4,
 "nbformat_minor": 5
}
